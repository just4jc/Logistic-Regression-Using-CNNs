{
    "cells": [
        {
            "cell_type": "markdown", 
            "metadata": {}, 
            "source": "#Part 1"
        }, 
        {
            "cell_type": "markdown", 
            "metadata": {}, 
            "source": "Create function to pull data file from .zip"
        }, 
        {
            "cell_type": "code", 
            "metadata": {
                "collapsed": true
            }, 
            "outputs": [], 
            "source": "import os\nimport zipfile\nimport requests\n\ndef download_data(url, name, path='data'):\n    if not os.path.exists(path):\n        os.mkdir(path)\n\n    response = requests.get(url)\n    with open(os.path.join(path, name), 'wb') as f:\n        f.write(response.content)\n\n    z = zipfile.ZipFile(os.path.join(path, 'vehicles.zip'))\n    z.extractall(path)\n\nVEHICLES = 'http://bit.ly/ddl-cars'\n\ndownload_data(VEHICLES, 'vehicles.zip')", 
            "execution_count": 1
        }, 
        {
            "cell_type": "code", 
            "metadata": {}, 
            "outputs": [
                {
                    "text": "/usr/local/src/conda3_runtime.v20/4.1.1/lib/python3.5/site-packages/IPython/core/interactiveshell.py:2723: DtypeWarning: Columns (70,71,72,73,74,76,79) have mixed types. Specify dtype option on import or set low_memory=False.\n  interactivity=interactivity, compiler=compiler, result=result)\n", 
                    "output_type": "stream", 
                    "name": "stderr"
                }
            ], 
            "source": "import pandas as pd\n\npath = 'data'\n\nvehicles = pd.read_csv(os.path.join(path, 'vehicles.csv'))", 
            "execution_count": 2
        }, 
        {
            "cell_type": "markdown", 
            "metadata": {}, 
            "source": "Clean data - pull interesting columns, drop duplicated data points, drop n/a's, sort data by make, model, and year"
        }, 
        {
            "cell_type": "code", 
            "metadata": {
                "collapsed": true
            }, 
            "outputs": [], 
            "source": "select_columns = ['make', 'model', 'year', 'displ', 'cylinders', 'trany', 'drive', 'VClass','fuelType','barrels08', 'city08', 'highway08', 'comb08', 'co2TailpipeGpm', 'fuelCost08']\n\nvehicles = vehicles[select_columns][vehicles.year <= 2016].drop_duplicates().dropna()\n\nvehicles = vehicles.sort_values(['make', 'model', 'year'])", 
            "execution_count": 3
        }, 
        {
            "cell_type": "code", 
            "metadata": {}, 
            "outputs": [
                {
                    "execution_count": 4, 
                    "metadata": {}, 
                    "data": {
                        "text/plain": "                   make                model  year  displ  cylinders  \\\n19316        AM General    DJ Po Vehicle 2WD  1984    2.5        4.0   \n19314        AM General     FJ8c Post Office  1984    4.2        6.0   \n358          AM General  Post Office DJ5 2WD  1985    2.5        4.0   \n369          AM General  Post Office DJ8 2WD  1985    4.2        6.0   \n25797  ASC Incorporated                  GNX  1987    3.8        6.0   \n\n                 trany             drive                       VClass  \\\n19316  Automatic 3-spd     2-Wheel Drive  Special Purpose Vehicle 2WD   \n19314  Automatic 3-spd     2-Wheel Drive  Special Purpose Vehicle 2WD   \n358    Automatic 3-spd  Rear-Wheel Drive  Special Purpose Vehicle 2WD   \n369    Automatic 3-spd  Rear-Wheel Drive  Special Purpose Vehicle 2WD   \n25797  Automatic 4-spd  Rear-Wheel Drive                 Midsize Cars   \n\n      fuelType  barrels08  city08  highway08  comb08  co2TailpipeGpm  \\\n19316  Regular  19.388824      18         17      17      522.764706   \n19314  Regular  25.354615      13         13      13      683.615385   \n358    Regular  20.600625      16         17      16      555.437500   \n369    Regular  25.354615      13         13      13      683.615385   \n25797  Premium  20.600625      14         21      16      555.437500   \n\n       fuelCost08  \n19316        1950  \n19314        2550  \n358          2100  \n369          2550  \n25797        2550  ", 
                        "text/html": "<div>\n<table border=\"1\" class=\"dataframe\">\n  <thead>\n    <tr style=\"text-align: right;\">\n      <th></th>\n      <th>make</th>\n      <th>model</th>\n      <th>year</th>\n      <th>displ</th>\n      <th>cylinders</th>\n      <th>trany</th>\n      <th>drive</th>\n      <th>VClass</th>\n      <th>fuelType</th>\n      <th>barrels08</th>\n      <th>city08</th>\n      <th>highway08</th>\n      <th>comb08</th>\n      <th>co2TailpipeGpm</th>\n      <th>fuelCost08</th>\n    </tr>\n  </thead>\n  <tbody>\n    <tr>\n      <th>19316</th>\n      <td>AM General</td>\n      <td>DJ Po Vehicle 2WD</td>\n      <td>1984</td>\n      <td>2.5</td>\n      <td>4.0</td>\n      <td>Automatic 3-spd</td>\n      <td>2-Wheel Drive</td>\n      <td>Special Purpose Vehicle 2WD</td>\n      <td>Regular</td>\n      <td>19.388824</td>\n      <td>18</td>\n      <td>17</td>\n      <td>17</td>\n      <td>522.764706</td>\n      <td>1950</td>\n    </tr>\n    <tr>\n      <th>19314</th>\n      <td>AM General</td>\n      <td>FJ8c Post Office</td>\n      <td>1984</td>\n      <td>4.2</td>\n      <td>6.0</td>\n      <td>Automatic 3-spd</td>\n      <td>2-Wheel Drive</td>\n      <td>Special Purpose Vehicle 2WD</td>\n      <td>Regular</td>\n      <td>25.354615</td>\n      <td>13</td>\n      <td>13</td>\n      <td>13</td>\n      <td>683.615385</td>\n      <td>2550</td>\n    </tr>\n    <tr>\n      <th>358</th>\n      <td>AM General</td>\n      <td>Post Office DJ5 2WD</td>\n      <td>1985</td>\n      <td>2.5</td>\n      <td>4.0</td>\n      <td>Automatic 3-spd</td>\n      <td>Rear-Wheel Drive</td>\n      <td>Special Purpose Vehicle 2WD</td>\n      <td>Regular</td>\n      <td>20.600625</td>\n      <td>16</td>\n      <td>17</td>\n      <td>16</td>\n      <td>555.437500</td>\n      <td>2100</td>\n    </tr>\n    <tr>\n      <th>369</th>\n      <td>AM General</td>\n      <td>Post Office DJ8 2WD</td>\n      <td>1985</td>\n      <td>4.2</td>\n      <td>6.0</td>\n      <td>Automatic 3-spd</td>\n      <td>Rear-Wheel Drive</td>\n      <td>Special Purpose Vehicle 2WD</td>\n      <td>Regular</td>\n      <td>25.354615</td>\n      <td>13</td>\n      <td>13</td>\n      <td>13</td>\n      <td>683.615385</td>\n      <td>2550</td>\n    </tr>\n    <tr>\n      <th>25797</th>\n      <td>ASC Incorporated</td>\n      <td>GNX</td>\n      <td>1987</td>\n      <td>3.8</td>\n      <td>6.0</td>\n      <td>Automatic 4-spd</td>\n      <td>Rear-Wheel Drive</td>\n      <td>Midsize Cars</td>\n      <td>Premium</td>\n      <td>20.600625</td>\n      <td>14</td>\n      <td>21</td>\n      <td>16</td>\n      <td>555.437500</td>\n      <td>2550</td>\n    </tr>\n  </tbody>\n</table>\n</div>"
                    }, 
                    "output_type": "execute_result"
                }
            ], 
            "source": "vehicles.head()", 
            "execution_count": 4
        }, 
        {
            "cell_type": "code", 
            "metadata": {}, 
            "outputs": [
                {
                    "text": "<class 'pandas.core.frame.DataFrame'>\nInt64Index: 35095 entries, 19316 to 29609\nData columns (total 15 columns):\nmake              35095 non-null object\nmodel             35095 non-null object\nyear              35095 non-null int64\ndispl             35095 non-null float64\ncylinders         35095 non-null float64\ntrany             35095 non-null object\ndrive             35095 non-null object\nVClass            35095 non-null object\nfuelType          35095 non-null object\nbarrels08         35095 non-null float64\ncity08            35095 non-null int64\nhighway08         35095 non-null int64\ncomb08            35095 non-null int64\nco2TailpipeGpm    35095 non-null float64\nfuelCost08        35095 non-null int64\ndtypes: float64(4), int64(5), object(6)\nmemory usage: 4.3+ MB\n", 
                    "output_type": "stream", 
                    "name": "stdout"
                }
            ], 
            "source": "vehicles.info()", 
            "execution_count": 5
        }, 
        {
            "cell_type": "markdown", 
            "metadata": {
                "collapsed": true
            }, 
            "source": "Rename columns to make more readable"
        }, 
        {
            "cell_type": "code", 
            "metadata": {
                "collapsed": true
            }, 
            "outputs": [], 
            "source": "vehicles.columns = ['Make','Model','Year','Engine Displacement','Cylinders',\n                    'Transmission','Drivetrain','Vehicle Class','Fuel Type',\n                    'Fuel Barrels/Year','City MPG','Highway MPG','Combined MPG',\n                    'CO2 Emission Grams/Mile','Fuel Cost/Year']", 
            "execution_count": 6
        }, 
        {
            "cell_type": "markdown", 
            "metadata": {}, 
            "source": "#Part 2"
        }, 
        {
            "cell_type": "markdown", 
            "metadata": {}, 
            "source": "#Categorical Variables\n\nLooking to simplify data - create higher level categorical variables or remove complexity from data"
        }, 
        {
            "cell_type": "code", 
            "metadata": {}, 
            "outputs": [
                {
                    "text": "Make | 126 | object\nModel | 3490 | object\nYear | 33 | int64\nEngine Displacement | 65 | float64\nCylinders | 9 | float64\nTransmission | 44 | object\nDrivetrain | 7 | object\nVehicle Class | 34 | object\nFuel Type | 13 | object\nFuel Barrels/Year | 116 | float64\nCity MPG | 48 | int64\nHighway MPG | 49 | int64\nCombined MPG | 46 | int64\nCO2 Emission Grams/Mile | 550 | float64\nFuel Cost/Year | 55 | int64\n", 
                    "output_type": "stream", 
                    "name": "stdout"
                }
            ], 
            "source": "def unique_col_values(df):\n    for column in df:\n        print(\"{} | {} | {}\".format(\n            df[column].name, len(df[column].unique()), df[column].dtype\n        ))\n\nunique_col_values(vehicles)", 
            "execution_count": 7
        }, 
        {
            "cell_type": "markdown", 
            "metadata": {}, 
            "source": "Ex of simplfying data - Transmission: there are 44 types of transmission - they can be broken into Automatic and Manual"
        }, 
        {
            "cell_type": "code", 
            "metadata": {}, 
            "outputs": [
                {
                    "execution_count": 8, 
                    "metadata": {}, 
                    "data": {
                        "text/plain": "44"
                    }, 
                    "output_type": "execute_result"
                }
            ], 
            "source": "len(vehicles.Transmission.unique())", 
            "execution_count": 8
        }, 
        {
            "cell_type": "code", 
            "metadata": {}, 
            "outputs": [
                {
                    "execution_count": 9, 
                    "metadata": {}, 
                    "data": {
                        "text/plain": "Automatic 4-spd                     10582\nManual 5-spd                         7764\nAutomatic 3-spd                      2597\nAutomatic (S6)                       2455\nManual 6-spd                         2336\nAutomatic 5-spd                      2171\nAutomatic 6-spd                      1351\nManual 4-spd                         1306\nAutomatic (S5)                        822\nAutomatic (S8)                        774\nAutomatic (variable gear ratios)      643\nAutomatic 7-spd                       630\nAutomatic (S7)                        238\nAutomatic (S4)                        229\nAuto(AM-S7)                           211\nAutomatic 8-spd                       207\nAuto(AV-S6)                           135\nAuto(AM7)                             124\nAuto(AM6)                             103\nAuto(AM-S6)                            82\nManual 3-spd                           74\nManual 7-spd                           56\nAuto(AV-S7)                            54\nAutomatic 9-spd                        54\nAuto(AV-S8)                            24\nAutomatic (S9)                         17\nAuto(AM5)                              12\nAutomatic (AV-S6)                       9\nAutomatic (A6)                          4\nAuto(AM8)                               4\nAutomatic (AV)                          4\nAuto(AM-S8)                             4\nAutomatic (A1)                          3\nManual(M7)                              2\nAutomatic (AM5)                         2\nAuto(L4)                                2\nAuto(L3)                                2\nAuto (AV)                               2\nAuto (AV-S6)                            1\nAutomatic (AM6)                         1\nAuto (AV-S8)                            1\nAuto(A1)                                1\nManual 5 spd                            1\nAutomatic 6spd                          1\nName: Transmission, dtype: int64"
                    }, 
                    "output_type": "execute_result"
                }
            ], 
            "source": "vehicles.Transmission.value_counts() ", 
            "execution_count": 9
        }, 
        {
            "cell_type": "markdown", 
            "metadata": {}, 
            "source": "Create \"Transmission Type\" column, fill column with AUTOMATIC or MANUAL depending on entry in \"Transmission\" column"
        }, 
        {
            "cell_type": "code", 
            "metadata": {
                "collapsed": true
            }, 
            "outputs": [], 
            "source": "AUTOMATIC = \"Automatic\"\nMANUAL = \"Manual\"\n\nvehicles.loc[vehicles['Transmission'].str.startswith('A'),\n             'Transmission Type'] = AUTOMATIC\n\nvehicles.loc[vehicles['Transmission'].str.startswith('M'),\n             'Transmission Type'] = MANUAL", 
            "execution_count": 10
        }, 
        {
            "cell_type": "markdown", 
            "metadata": {}, 
            "source": "Create \"Vehicle Category\" column, fill new column with small, midsize, or large based on entry in Vehicle Class"
        }, 
        {
            "cell_type": "code", 
            "metadata": {
                "collapsed": true
            }, 
            "outputs": [], 
            "source": "small = ['Compact Cars','Subcompact Cars','Two Seaters','Minicompact Cars']\nmidsize = ['Midsize Cars']\nlarge = ['Large Cars']\n\nvehicles.loc[vehicles['Vehicle Class'].isin(small), \n             'Vehicle Category'] = 'Small Cars'\n\nvehicles.loc[vehicles['Vehicle Class'].isin(midsize), \n             'Vehicle Category'] = 'Midsize Cars'\n\nvehicles.loc[vehicles['Vehicle Class'].isin(large), \n             'Vehicle Category'] = 'Large Cars'\n\nvehicles.loc[vehicles['Vehicle Class'].str.contains('Station'), \n             'Vehicle Category'] = 'Station Wagons'\n\nvehicles.loc[vehicles['Vehicle Class'].str.contains('Truck'), \n             'Vehicle Category'] = 'Pickup Trucks'\n\nvehicles.loc[vehicles['Vehicle Class'].str.contains('Special Purpose'), \n             'Vehicle Category'] = 'Special Purpose'\n\nvehicles.loc[vehicles['Vehicle Class'].str.contains('Sport Utility'), \n             'Vehicle Category'] = 'Sport Utility'\n\nvehicles.loc[(vehicles['Vehicle Class'].str.lower().str.contains('van')),\n             'Vehicle Category'] = 'Vans & Minivans'", 
            "execution_count": 11
        }, 
        {
            "cell_type": "markdown", 
            "metadata": {}, 
            "source": "Combine Make and Model columns into a new column - Model Type: generalized car model\n\nEx) Categorize all Chevrolet Suburban C1500 2WD vehicles and all Chevrolet Suburban K1500 4WD vehicles as simply Chevrolet Suburbans"
        }, 
        {
            "cell_type": "code", 
            "metadata": {
                "collapsed": true
            }, 
            "outputs": [], 
            "source": "vehicles['Model Type'] = (vehicles['Make'] + \" \" +\n                          vehicles['Model'].str.split().str.get(0))", 
            "execution_count": 12
        }, 
        {
            "cell_type": "code", 
            "metadata": {}, 
            "outputs": [
                {
                    "execution_count": 13, 
                    "metadata": {}, 
                    "data": {
                        "text/plain": "Regular                        23208\nPremium                         9509\nGasoline or E85                 1157\nDiesel                           906\nPremium or E85                   116\nMidgrade                          64\nCNG                               60\nGasoline or natural gas           20\nPremium and Electricity           16\nPremium Gas or Electricity        16\nRegular Gas and Electricity       14\nGasoline or propane                8\nRegular Gas or Electricity         1\nName: Fuel Type, dtype: int64"
                    }, 
                    "output_type": "execute_result"
                }
            ], 
            "source": "vehicles['Fuel Type'].value_counts()", 
            "execution_count": 13
        }, 
        {
            "cell_type": "markdown", 
            "metadata": {}, 
            "source": "Create a column for each Fuel Type - create categorical variables for each fuel type\n\nHow: Default each value in new columns (Gas, Ethanol, Electricity, Propane, Natural Gas) to 0, Put a 1 in the appropriate column if a Fuel Type is correct for a given category\n\nEx) If Fuel Type = \"E85\" then put 1 in Ethanol column"
        }, 
        {
            "cell_type": "code", 
            "metadata": {
                "collapsed": true
            }, 
            "outputs": [], 
            "source": "vehicles['Gas'] = 0\nvehicles['Ethanol'] = 0\nvehicles['Electric'] = 0\nvehicles['Propane'] = 0\nvehicles['Natural Gas'] = 0\n\nvehicles.loc[vehicles['Fuel Type'].str.contains(\n        'Regular|Gasoline|Midgrade|Premium|Diesel'),'Gas'] = 1\n\nvehicles.loc[vehicles['Fuel Type'].str.contains('E85'),'Ethanol'] = 1\n\nvehicles.loc[vehicles['Fuel Type'].str.contains('Electricity'),'Electric'] = 1\n\nvehicles.loc[vehicles['Fuel Type'].str.contains('propane'),'Propane'] = 1\n\nvehicles.loc[vehicles['Fuel Type'].str.contains('natural|CNG'),'Natural Gas'] = 1", 
            "execution_count": 23
        }, 
        {
            "cell_type": "markdown", 
            "metadata": {}, 
            "source": "Create Gas Type Column to further categorize gas types based on data in Fuel Type column"
        }, 
        {
            "cell_type": "code", 
            "metadata": {
                "collapsed": true
            }, 
            "outputs": [], 
            "source": "vehicles.loc[vehicles['Fuel Type'].str.contains(\n        'Regular|Gasoline'),'Gas Type'] = 'Regular'\n\nvehicles.loc[vehicles['Fuel Type'] == 'Midgrade',\n             'Gas Type'] = 'Midgrade'\n\nvehicles.loc[vehicles['Fuel Type'].str.contains('Premium'),\n             'Gas Type'] = 'Premium'\n\nvehicles.loc[vehicles['Fuel Type'] == 'Diesel',\n             'Gas Type'] = 'Diesel'\n\nvehicles.loc[vehicles['Fuel Type'].str.contains('natural|CNG'),\n             'Gas Type'] = 'Natural'", 
            "execution_count": 25
        }, 
        {
            "cell_type": "markdown", 
            "metadata": {}, 
            "source": "#Binning\n\nWhen working with continous variables, bin them to make them easier - def of bin: combine into discrete buckets by creating ranges\n\nEx) In marketing - create customer cohorts to buckets consumers into similar joining times\n\nUse qcut function - pandas.qcut(Series, # of quintiles/buckets, labels)"
        }, 
        {
            "cell_type": "code", 
            "metadata": {}, 
            "outputs": [
                {
                    "text": "<class 'pandas.core.frame.DataFrame'>\nInt64Index: 35095 entries, 19316 to 29609\nData columns (total 24 columns):\nMake                       35095 non-null object\nModel                      35095 non-null object\nYear                       35095 non-null int64\nEngine Displacement        35095 non-null float64\nCylinders                  35095 non-null float64\nTransmission               35095 non-null object\nDrivetrain                 35095 non-null object\nVehicle Class              35095 non-null object\nFuel Type                  35095 non-null object\nFuel Barrels/Year          35095 non-null float64\nCity MPG                   35095 non-null int64\nHighway MPG                35095 non-null int64\nCombined MPG               35095 non-null int64\nCO2 Emission Grams/Mile    35095 non-null float64\nFuel Cost/Year             35095 non-null int64\nTransmission Type          35095 non-null object\nVehicle Category           35095 non-null object\nModel Type                 35095 non-null object\nGas                        35095 non-null int64\nEthanol                    35095 non-null int64\nElectric                   35095 non-null int64\nPropane                    35095 non-null int64\nNatural Gas                35095 non-null int64\nGas Type                   35095 non-null object\ndtypes: float64(4), int64(10), object(10)\nmemory usage: 7.9+ MB\n", 
                    "output_type": "stream", 
                    "name": "stdout"
                }
            ], 
            "source": "vehicles.info()", 
            "execution_count": 36
        }, 
        {
            "cell_type": "markdown", 
            "metadata": {}, 
            "source": "Combined MPG, Engine Size, Emissions, Fuel Costs - bucket into 5 categories "
        }, 
        {
            "cell_type": "code", 
            "metadata": {
                "collapsed": true
            }, 
            "outputs": [], 
            "source": "efficiency_categories = ['Very Low Efficiency', 'Low Efficiency',\n                         'Moderate Efficiency','High Efficiency',\n                         'Very High Efficiency']\n\nvehicles['Fuel Efficiency'] = pd.qcut(vehicles['Combined MPG'],\n                                      5, efficiency_categories)", 
            "execution_count": 44
        }, 
        {
            "cell_type": "code", 
            "metadata": {
                "collapsed": true
            }, 
            "outputs": [], 
            "source": "engine_categories = ['Very Small Engine', 'Small Engine','Moderate Engine',\n                     'Large Engine', 'Very Large Engine']\n\nvehicles['Engine Size'] = pd.qcut(vehicles['Engine Displacement'],\n                                  5, engine_categories)", 
            "execution_count": 45
        }, 
        {
            "cell_type": "code", 
            "metadata": {
                "collapsed": true
            }, 
            "outputs": [], 
            "source": "emission_categories = ['Very Low Emissions', 'Low Emissions',\n                        'Moderate Emissions','High Emissions',\n                        'Very High Emissions']\n\nvehicles['Emissions'] = pd.qcut(vehicles['CO2 Emission Grams/Mile'],\n                                 5, emission_categories)", 
            "execution_count": 46
        }, 
        {
            "cell_type": "code", 
            "metadata": {
                "collapsed": true
            }, 
            "outputs": [], 
            "source": "fuelcost_categories = ['Very Low Fuel Cost', 'Low Fuel Cost',\n                       'Moderate Fuel Cost','High Fuel Cost',\n                       'Very High Fuel Cost']\n\nvehicles['Fuel Cost'] = pd.qcut(vehicles['Fuel Cost/Year'],\n                                5, fuelcost_categories)", 
            "execution_count": 47
        }, 
        {
            "cell_type": "markdown", 
            "metadata": {}, 
            "source": "#Clustering \n\nCreate new features from related variables, use numerical variables ONLY"
        }, 
        {
            "cell_type": "code", 
            "metadata": {
                "collapsed": true
            }, 
            "outputs": [], 
            "source": "cluster_columns = ['Engine Displacement','Cylinders','Fuel Barrels/Year',\n                   'City MPG','Highway MPG','Combined MPG',\n                   'CO2 Emission Grams/Mile', 'Fuel Cost/Year']", 
            "execution_count": 48
        }, 
        {
            "cell_type": "markdown", 
            "metadata": {}, 
            "source": "Scale numerical values so that they retain their distribution but are numbers between 0 and 1 (Purpose: mathematical convenience?)"
        }, 
        {
            "cell_type": "code", 
            "metadata": {
                "collapsed": true
            }, 
            "outputs": [], 
            "source": "from sklearn import preprocessing\nscaler = preprocessing.MaxAbsScaler()\n\nvehicle_clusters = scaler.fit_transform(vehicles[cluster_columns])\nvehicle_clusters = pd.DataFrame(vehicle_clusters, columns=cluster_columns)", 
            "execution_count": 49
        }, 
        {
            "cell_type": "markdown", 
            "metadata": {}, 
            "source": "K means cluster to create groups - create new features based on group characteristics\n\nExplanation: https://www.quora.com/What-is-a-k-means-algorithm"
        }, 
        {
            "cell_type": "code", 
            "metadata": {
                "collapsed": true
            }, 
            "outputs": [], 
            "source": "from sklearn.cluster import KMeans\n\ndef kmeans_cluster(df, n_clusters=2):\n    model = KMeans(n_clusters=n_clusters, random_state=1)\n    clusters = model.fit_predict(df)\n    cluster_results = df.copy()\n    cluster_results['Cluster'] = clusters\n    return cluster_results", 
            "execution_count": 50
        }, 
        {
            "cell_type": "code", 
            "metadata": {
                "collapsed": true
            }, 
            "outputs": [], 
            "source": "def summarize_clustering(results):\n    cluster_size = results.groupby(['Cluster']).size().reset_index()\n    cluster_size.columns = ['Cluster', 'Count']\n    cluster_means = results.groupby(['Cluster'], as_index=False).mean()\n    cluster_summary = pd.merge(cluster_size, cluster_means, on='Cluster')\n    return cluster_summary", 
            "execution_count": 51
        }, 
        {
            "cell_type": "markdown", 
            "metadata": {}, 
            "source": "Creates 4 clusters (based on iteration to see the number of clusters that is mutually exclusive,collectively exhaustive - this part is more art than science...)"
        }, 
        {
            "cell_type": "code", 
            "metadata": {
                "collapsed": true
            }, 
            "outputs": [], 
            "source": "cluster_results = kmeans_cluster(vehicle_clusters, 4)\ncluster_summary = summarize_clustering(cluster_results)", 
            "execution_count": 52
        }, 
        {
            "cell_type": "code", 
            "metadata": {}, 
            "outputs": [
                {
                    "execution_count": 54, 
                    "metadata": {}, 
                    "data": {
                        "text/plain": "   Cluster  Count  Engine Displacement  Cylinders  Fuel Barrels/Year  \\\n0        0   8195             0.230890   0.251411           0.266962   \n1        1   8188             0.513292   0.428325           0.423538   \n2        2  13603             0.330854   0.322369           0.352043   \n3        3   5109             0.659905   0.527770           0.533567   \n\n   City MPG  Highway MPG  Combined MPG  CO2 Emission Grams/Mile  \\\n0  0.413265     0.515462      0.478114                 0.267262   \n1  0.253255     0.329058      0.296837                 0.425091   \n2  0.303940     0.397599      0.357866                 0.352017   \n3  0.204116     0.266030      0.239825                 0.533659   \n\n   Fuel Cost/Year  \n0        0.227753  \n1        0.370426  \n2        0.308864  \n3        0.465684  ", 
                        "text/html": "<div>\n<style>\n    .dataframe thead tr:only-child th {\n        text-align: right;\n    }\n\n    .dataframe thead th {\n        text-align: left;\n    }\n\n    .dataframe tbody tr th {\n        vertical-align: top;\n    }\n</style>\n<table border=\"1\" class=\"dataframe\">\n  <thead>\n    <tr style=\"text-align: right;\">\n      <th></th>\n      <th>Cluster</th>\n      <th>Count</th>\n      <th>Engine Displacement</th>\n      <th>Cylinders</th>\n      <th>Fuel Barrels/Year</th>\n      <th>City MPG</th>\n      <th>Highway MPG</th>\n      <th>Combined MPG</th>\n      <th>CO2 Emission Grams/Mile</th>\n      <th>Fuel Cost/Year</th>\n    </tr>\n  </thead>\n  <tbody>\n    <tr>\n      <th>0</th>\n      <td>0</td>\n      <td>8195</td>\n      <td>0.230890</td>\n      <td>0.251411</td>\n      <td>0.266962</td>\n      <td>0.413265</td>\n      <td>0.515462</td>\n      <td>0.478114</td>\n      <td>0.267262</td>\n      <td>0.227753</td>\n    </tr>\n    <tr>\n      <th>1</th>\n      <td>1</td>\n      <td>8188</td>\n      <td>0.513292</td>\n      <td>0.428325</td>\n      <td>0.423538</td>\n      <td>0.253255</td>\n      <td>0.329058</td>\n      <td>0.296837</td>\n      <td>0.425091</td>\n      <td>0.370426</td>\n    </tr>\n    <tr>\n      <th>2</th>\n      <td>2</td>\n      <td>13603</td>\n      <td>0.330854</td>\n      <td>0.322369</td>\n      <td>0.352043</td>\n      <td>0.303940</td>\n      <td>0.397599</td>\n      <td>0.357866</td>\n      <td>0.352017</td>\n      <td>0.308864</td>\n    </tr>\n    <tr>\n      <th>3</th>\n      <td>3</td>\n      <td>5109</td>\n      <td>0.659905</td>\n      <td>0.527770</td>\n      <td>0.533567</td>\n      <td>0.204116</td>\n      <td>0.266030</td>\n      <td>0.239825</td>\n      <td>0.533659</td>\n      <td>0.465684</td>\n    </tr>\n  </tbody>\n</table>\n</div>"
                    }, 
                    "output_type": "execute_result"
                }
            ], 
            "source": "cluster_summary", 
            "execution_count": 54
        }, 
        {
            "cell_type": "markdown", 
            "metadata": {}, 
            "source": "Visualization of clustering"
        }, 
        {
            "cell_type": "code", 
            "metadata": {
                "scrolled": true
            }, 
            "outputs": [
                {
                    "execution_count": 56, 
                    "metadata": {}, 
                    "data": {
                        "text/plain": "<matplotlib.axes._subplots.AxesSubplot at 0x2733b9da0>"
                    }, 
                    "output_type": "execute_result"
                }, 
                {
                    "metadata": {}, 
                    "data": {
                        "text/plain": "<matplotlib.figure.Figure at 0x273408198>", 
                        "image/png": "[encoded data removed]"
                    }, 
                    "output_type": "display_data"
                }
            ], 
            "source": "import matplotlib.pyplot as plt\nimport seaborn as sns\n%matplotlib inline\n\nsns.heatmap(cluster_summary[cluster_columns].transpose(), annot=True)", 
            "execution_count": 56
        }, 
        {
            "cell_type": "markdown", 
            "metadata": {}, 
            "source": "Create descriptive labels for clusters - Remember the graph shows rescaled, average values for given variables.\n\nEx - Cluster 3 has a large amount of engine displacement, lots of cylinders, lost of emissions, and high fuel costs -> \"Large Inefficient\""
        }, 
        {
            "cell_type": "code", 
            "metadata": {
                "collapsed": true
            }, 
            "outputs": [
                {
                    "text": "C:\\Users\\benbl\\Anaconda3\\lib\\site-packages\\ipykernel_launcher.py:2: SettingWithCopyWarning: \nA value is trying to be set on a copy of a slice from a DataFrame\n\nSee the caveats in the documentation: http://pandas.pydata.org/pandas-docs/stable/indexing.html#indexing-view-versus-copy\n  \nC:\\Users\\benbl\\Anaconda3\\lib\\site-packages\\ipykernel_launcher.py:3: SettingWithCopyWarning: \nA value is trying to be set on a copy of a slice from a DataFrame\n\nSee the caveats in the documentation: http://pandas.pydata.org/pandas-docs/stable/indexing.html#indexing-view-versus-copy\n  This is separate from the ipykernel package so we can avoid doing imports until\nC:\\Users\\benbl\\Anaconda3\\lib\\site-packages\\ipykernel_launcher.py:4: SettingWithCopyWarning: \nA value is trying to be set on a copy of a slice from a DataFrame\n\nSee the caveats in the documentation: http://pandas.pydata.org/pandas-docs/stable/indexing.html#indexing-view-versus-copy\n  after removing the cwd from sys.path.\nC:\\Users\\benbl\\Anaconda3\\lib\\site-packages\\ipykernel_launcher.py:5: SettingWithCopyWarning: \nA value is trying to be set on a copy of a slice from a DataFrame\n\nSee the caveats in the documentation: http://pandas.pydata.org/pandas-docs/stable/indexing.html#indexing-view-versus-copy\n  \"\"\"\n", 
                    "output_type": "stream", 
                    "name": "stderr"
                }
            ], 
            "source": "cluster_results['Cluster Name'] = ''\ncluster_results['Cluster Name'][cluster_results['Cluster']==2] = 'Midsized Balanced'\ncluster_results['Cluster Name'][cluster_results['Cluster']==3] = 'Large Inefficient'\ncluster_results['Cluster Name'][cluster_results['Cluster']==1] = 'Large Moderately Efficient'\ncluster_results['Cluster Name'][cluster_results['Cluster']==0] = 'Small Very Efficient'\n\nvehicles = vehicles.reset_index().drop('index', axis=1)\nvehicles['Cluster Name'] = cluster_results['Cluster Name']", 
            "execution_count": 57
        }, 
        {
            "cell_type": "code", 
            "metadata": {}, 
            "outputs": [
                {
                    "execution_count": 59, 
                    "metadata": {}, 
                    "data": {
                        "text/plain": "               Make                Model  Year  Engine Displacement  \\\n0        AM General    DJ Po Vehicle 2WD  1984                  2.5   \n1        AM General     FJ8c Post Office  1984                  4.2   \n2        AM General  Post Office DJ5 2WD  1985                  2.5   \n3        AM General  Post Office DJ8 2WD  1985                  4.2   \n4  ASC Incorporated                  GNX  1987                  3.8   \n\n   Cylinders     Transmission        Drivetrain                Vehicle Class  \\\n0        4.0  Automatic 3-spd     2-Wheel Drive  Special Purpose Vehicle 2WD   \n1        6.0  Automatic 3-spd     2-Wheel Drive  Special Purpose Vehicle 2WD   \n2        4.0  Automatic 3-spd  Rear-Wheel Drive  Special Purpose Vehicle 2WD   \n3        6.0  Automatic 3-spd  Rear-Wheel Drive  Special Purpose Vehicle 2WD   \n4        6.0  Automatic 4-spd  Rear-Wheel Drive                 Midsize Cars   \n\n  Fuel Type  Fuel Barrels/Year             ...              Ethanol  Electric  \\\n0   Regular          19.388824             ...                    0         0   \n1   Regular          25.354615             ...                    0         0   \n2   Regular          20.600625             ...                    0         0   \n3   Regular          25.354615             ...                    0         0   \n4   Premium          20.600625             ...                    0         0   \n\n   Propane  Natural Gas  Gas Type      Fuel Efficiency   Engine Size  \\\n0        0            0   Regular       Low Efficiency  Small Engine   \n1        0            0   Regular  Very Low Efficiency  Large Engine   \n2        0            0   Regular  Very Low Efficiency  Small Engine   \n3        0            0   Regular  Very Low Efficiency  Large Engine   \n4        0            0   Premium  Very Low Efficiency  Large Engine   \n\n             Emissions            Fuel Cost                Cluster Name  \n0       High Emissions   Moderate Fuel Cost           Midsized Balanced  \n1  Very High Emissions  Very High Fuel Cost  Large Moderately Efficient  \n2       High Emissions       High Fuel Cost           Midsized Balanced  \n3  Very High Emissions  Very High Fuel Cost  Large Moderately Efficient  \n4       High Emissions  Very High Fuel Cost  Large Moderately Efficient  \n\n[5 rows x 29 columns]", 
                        "text/html": "<div>\n<style>\n    .dataframe thead tr:only-child th {\n        text-align: right;\n    }\n\n    .dataframe thead th {\n        text-align: left;\n    }\n\n    .dataframe tbody tr th {\n        vertical-align: top;\n    }\n</style>\n<table border=\"1\" class=\"dataframe\">\n  <thead>\n    <tr style=\"text-align: right;\">\n      <th></th>\n      <th>Make</th>\n      <th>Model</th>\n      <th>Year</th>\n      <th>Engine Displacement</th>\n      <th>Cylinders</th>\n      <th>Transmission</th>\n      <th>Drivetrain</th>\n      <th>Vehicle Class</th>\n      <th>Fuel Type</th>\n      <th>Fuel Barrels/Year</th>\n      <th>...</th>\n      <th>Ethanol</th>\n      <th>Electric</th>\n      <th>Propane</th>\n      <th>Natural Gas</th>\n      <th>Gas Type</th>\n      <th>Fuel Efficiency</th>\n      <th>Engine Size</th>\n      <th>Emissions</th>\n      <th>Fuel Cost</th>\n      <th>Cluster Name</th>\n    </tr>\n  </thead>\n  <tbody>\n    <tr>\n      <th>0</th>\n      <td>AM General</td>\n      <td>DJ Po Vehicle 2WD</td>\n      <td>1984</td>\n      <td>2.5</td>\n      <td>4.0</td>\n      <td>Automatic 3-spd</td>\n      <td>2-Wheel Drive</td>\n      <td>Special Purpose Vehicle 2WD</td>\n      <td>Regular</td>\n      <td>19.388824</td>\n      <td>...</td>\n      <td>0</td>\n      <td>0</td>\n      <td>0</td>\n      <td>0</td>\n      <td>Regular</td>\n      <td>Low Efficiency</td>\n      <td>Small Engine</td>\n      <td>High Emissions</td>\n      <td>Moderate Fuel Cost</td>\n      <td>Midsized Balanced</td>\n    </tr>\n    <tr>\n      <th>1</th>\n      <td>AM General</td>\n      <td>FJ8c Post Office</td>\n      <td>1984</td>\n      <td>4.2</td>\n      <td>6.0</td>\n      <td>Automatic 3-spd</td>\n      <td>2-Wheel Drive</td>\n      <td>Special Purpose Vehicle 2WD</td>\n      <td>Regular</td>\n      <td>25.354615</td>\n      <td>...</td>\n      <td>0</td>\n      <td>0</td>\n      <td>0</td>\n      <td>0</td>\n      <td>Regular</td>\n      <td>Very Low Efficiency</td>\n      <td>Large Engine</td>\n      <td>Very High Emissions</td>\n      <td>Very High Fuel Cost</td>\n      <td>Large Moderately Efficient</td>\n    </tr>\n    <tr>\n      <th>2</th>\n      <td>AM General</td>\n      <td>Post Office DJ5 2WD</td>\n      <td>1985</td>\n      <td>2.5</td>\n      <td>4.0</td>\n      <td>Automatic 3-spd</td>\n      <td>Rear-Wheel Drive</td>\n      <td>Special Purpose Vehicle 2WD</td>\n      <td>Regular</td>\n      <td>20.600625</td>\n      <td>...</td>\n      <td>0</td>\n      <td>0</td>\n      <td>0</td>\n      <td>0</td>\n      <td>Regular</td>\n      <td>Very Low Efficiency</td>\n      <td>Small Engine</td>\n      <td>High Emissions</td>\n      <td>High Fuel Cost</td>\n      <td>Midsized Balanced</td>\n    </tr>\n    <tr>\n      <th>3</th>\n      <td>AM General</td>\n      <td>Post Office DJ8 2WD</td>\n      <td>1985</td>\n      <td>4.2</td>\n      <td>6.0</td>\n      <td>Automatic 3-spd</td>\n      <td>Rear-Wheel Drive</td>\n      <td>Special Purpose Vehicle 2WD</td>\n      <td>Regular</td>\n      <td>25.354615</td>\n      <td>...</td>\n      <td>0</td>\n      <td>0</td>\n      <td>0</td>\n      <td>0</td>\n      <td>Regular</td>\n      <td>Very Low Efficiency</td>\n      <td>Large Engine</td>\n      <td>Very High Emissions</td>\n      <td>Very High Fuel Cost</td>\n      <td>Large Moderately Efficient</td>\n    </tr>\n    <tr>\n      <th>4</th>\n      <td>ASC Incorporated</td>\n      <td>GNX</td>\n      <td>1987</td>\n      <td>3.8</td>\n      <td>6.0</td>\n      <td>Automatic 4-spd</td>\n      <td>Rear-Wheel Drive</td>\n      <td>Midsize Cars</td>\n      <td>Premium</td>\n      <td>20.600625</td>\n      <td>...</td>\n      <td>0</td>\n      <td>0</td>\n      <td>0</td>\n      <td>0</td>\n      <td>Premium</td>\n      <td>Very Low Efficiency</td>\n      <td>Large Engine</td>\n      <td>High Emissions</td>\n      <td>Very High Fuel Cost</td>\n      <td>Large Moderately Efficient</td>\n    </tr>\n  </tbody>\n</table>\n<p>5 rows \u00d7 29 columns</p>\n</div>"
                    }, 
                    "output_type": "execute_result"
                }
            ], 
            "source": "vehicles.head()", 
            "execution_count": 59
        }, 
        {
            "cell_type": "markdown", 
            "metadata": {}, 
            "source": "#Part 3"
        }
    ], 
    "nbformat": 4, 
    "metadata": {
        "kernelspec": {
            "display_name": "Python 3.5 (Experimental) with Spark 1.6", 
            "name": "python3", 
            "language": "python"
        }, 
        "language_info": {
            "mimetype": "text/x-python", 
            "version": "3.5.2", 
            "file_extension": ".py", 
            "name": "python", 
            "pygments_lexer": "ipython3", 
            "nbconvert_exporter": "python", 
            "codemirror_mode": {
                "version": 3, 
                "name": "ipython"
            }
        }
    }, 
    "nbformat_minor": 2
}