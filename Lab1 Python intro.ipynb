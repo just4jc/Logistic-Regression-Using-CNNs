{
    "metadata": {
        "kernelspec": {
            "language": "python", 
            "display_name": "Python 3.5 (Experimental) with Spark 2.1", 
            "name": "python3-spark21"
        }, 
        "language_info": {
            "version": "3.5.2", 
            "codemirror_mode": {
                "version": 3, 
                "name": "ipython"
            }, 
            "nbconvert_exporter": "python", 
            "mimetype": "text/x-python", 
            "name": "python", 
            "pygments_lexer": "ipython3", 
            "file_extension": ".py"
        }, 
        "name": "_merged"
    }, 
    "nbformat": 4, 
    "cells": [
        {
            "metadata": {}, 
            "cell_type": "markdown", 
            "source": " \n\n \n\n<h1, align=center> Intro to Python </h1>\n\n<h3, align=center> September 2017</h3>\n"
        }, 
        {
            "execution_count": null, 
            "metadata": {
                "collapsed": true
            }, 
            "cell_type": "code", 
            "source": "", 
            "outputs": []
        }, 
        {
            "metadata": {}, 
            "cell_type": "markdown", 
            "source": "\n\n\n## Table of Contents\n- Basic Jupyter Operation\n- Python Basic \n- Python List Operation\n- Python Import Data\n- Take away: Extra Tutorial about Python\n"
        }, 
        {
            "metadata": {}, 
            "cell_type": "markdown", 
            "source": "<hr>"
        }, 
        {
            "metadata": {}, 
            "cell_type": "markdown", 
            "source": "<a id=\"Getting-Started-with-bdu-lab\"></a>\n<h1 align=center>How to use Jupyter Notebooks</h1>"
        }, 
        {
            "metadata": {}, 
            "cell_type": "markdown", 
            "source": "<div><img src=https://ibm.box.com/shared/static/4g2hs88inr5mwx2midhg9j66emuwit9y.gif width=600 align=left></div>"
        }, 
        {
            "metadata": {}, 
            "cell_type": "markdown", 
            "source": "### Try running some code below:"
        }, 
        {
            "execution_count": null, 
            "metadata": {
                "collapsed": true
            }, 
            "cell_type": "code", 
            "source": "1 + 1 # Shift+Enter to run", 
            "outputs": []
        }, 
        {
            "metadata": {}, 
            "cell_type": "markdown", 
            "source": "### Try to insert a cell below, above the line:"
        }, 
        {
            "metadata": {}, 
            "cell_type": "markdown", 
            "source": "<br>\n<hr>"
        }, 
        {
            "metadata": {}, 
            "cell_type": "markdown", 
            "source": "### Convert the next cell into a markdown cell to run it"
        }, 
        {
            "execution_count": null, 
            "metadata": {
                "collapsed": true
            }, 
            "cell_type": "code", 
            "source": "<a id=\"Change this into a code cell\"></a>\n# Great\n## Wow\n### Amazing\n#### Super\n\n1. Eat\n2. _Sleep_\n3. **Code**\n> Build machine learning models  \n\n`Write more code`\n\n- double click this cell to edit  \n\nCreate fancy $functions$\n\n<font color=\"red\">Data Science.</font>  \n\n<img src=https://api.apsportal.ibm.com/v2/nav/graphics/dsx-logo-lg.svg width=100 align=left>  ", 
            "outputs": []
        }, 
        {
            "metadata": {}, 
            "cell_type": "markdown", 
            "source": "<a id=\"Intro-to-Python\"></a>\n<h1 align=\"center\"> Intro to Python\n</h1>\n\n### Why Python?\n- integrated with web apps and incorporated into a production database. \n- nice Python packages for data analysis NumPy /SciPy (scientific computing), pandas (data manipulation), matplotlib (graphics), and scikit-learn (machine learning).\n"
        }, 
        {
            "metadata": {}, 
            "cell_type": "markdown", 
            "source": "### Assigning Values to Variables:\n- variables do not need explicit declaration, it happens automatically\n- The equal sign (=) is used to assign"
        }, 
        {
            "execution_count": null, 
            "metadata": {
                "collapsed": true
            }, 
            "cell_type": "code", 
            "source": "a = 1  \nb = 2\na #this is a comment", 
            "outputs": []
        }, 
        {
            "metadata": {}, 
            "cell_type": "markdown", 
            "source": "### Python has five standard data types \u2212\n- Numbers (int,long,float,complex)\n- String (a contiguous set of characters)\n- List\n- Tuple\n- Dictionary"
        }, 
        {
            "metadata": {}, 
            "cell_type": "markdown", 
            "source": "<a id=\"lists\"></a>\n<h2 align=center>Lists in Python</h2>"
        }, 
        {
            "metadata": {}, 
            "cell_type": "markdown", 
            "source": "### Create List"
        }, 
        {
            "metadata": {}, 
            "cell_type": "markdown", 
            "source": "What if we want to create a list of albums, we could put them in a Python list so that we could perform various manipulations on the list, like sorting it, etc. "
        }, 
        {
            "execution_count": 3, 
            "metadata": {}, 
            "cell_type": "code", 
            "source": "album_list = [\"Thriller\", \"Back in Black\", \"The Dark Side of the Moon\", \\\n              \"The Bodyguard\", \"Bat Out of Hell\", \"Their Greatest Hits (1971-1975)\", \\\n              \"Saturday Night Fever\", \"Rumours\"]\nalbum_list", 
            "outputs": [
                {
                    "execution_count": 3, 
                    "metadata": {}, 
                    "data": {
                        "text/plain": "['Thriller',\n 'Back in Black',\n 'The Dark Side of the Moon',\n 'The Bodyguard',\n 'Bat Out of Hell',\n 'Their Greatest Hits (1971-1975)',\n 'Saturday Night Fever',\n 'Rumours']"
                    }, 
                    "output_type": "execute_result"
                }
            ]
        }, 
        {
            "metadata": {}, 
            "cell_type": "markdown", 
            "source": "Lists are what they seem - a list of values which are numbered. The first one is numbered zero, the second 1, the third 2, etc. You can remove values from the list, and add new values to the end.\n- the most versatile data type\n- separated by commas and enclosed within square brackets ([])\n- items can be accessed using the slice operator ([ ] and [:]) \n- indexes starting at 0 in the beginning of the list\n- plus (+) sign is the list concatenation operator\n\n\nA list can be of different objects of Python, like vectors, numbers, characters, other lists as well, and so on. You can consider a list as a container of correlated information, well structured and easy to read. "
        }, 
        {
            "metadata": {}, 
            "cell_type": "markdown", 
            "source": "You can simply create a list of numbers:"
        }, 
        {
            "execution_count": 5, 
            "metadata": {}, 
            "cell_type": "code", 
            "source": "samole_list=[6,7,8,4]\nsamole_list", 
            "outputs": [
                {
                    "execution_count": 5, 
                    "metadata": {}, 
                    "data": {
                        "text/plain": "[6, 7, 8, 4]"
                    }, 
                    "output_type": "execute_result"
                }
            ]
        }, 
        {
            "metadata": {}, 
            "cell_type": "markdown", 
            "source": "### Accessing items in a list\nIt is possible to retrieve only a part of a list using the **single square  bracket**  operator **[ ]**. This operator can be also used to get a single element in a specific position. Take a look at the next example:"
        }, 
        {
            "metadata": {}, 
            "cell_type": "markdown", 
            "source": "The index number 2 returns the third element of a list, if that element exists, because indexing starts at 0:"
        }, 
        {
            "execution_count": 9, 
            "metadata": {}, 
            "cell_type": "code", 
            "source": "album_list[2] ", 
            "outputs": [
                {
                    "execution_count": 9, 
                    "metadata": {}, 
                    "data": {
                        "text/plain": "'The Dark Side of the Moon'"
                    }, 
                    "output_type": "execute_result"
                }
            ]
        }, 
        {
            "metadata": {}, 
            "cell_type": "markdown", 
            "source": "Or you can select a part or interval of elements of a list. In our next example we are retrieving the 1st and  2nd elements:"
        }, 
        {
            "execution_count": 10, 
            "metadata": {}, 
            "cell_type": "code", 
            "source": "album_list[0:2] ", 
            "outputs": [
                {
                    "execution_count": 10, 
                    "metadata": {}, 
                    "data": {
                        "text/plain": "['Thriller', 'Back in Black']"
                    }, 
                    "output_type": "execute_result"
                }
            ]
        }, 
        {
            "metadata": {}, 
            "cell_type": "markdown", 
            "source": "It looks a little confusing, but lists can also store names for its elements."
        }, 
        {
            "metadata": {}, 
            "cell_type": "markdown", 
            "source": "<h1 align=center><font size = 5>Import Data</font></h1> "
        }, 
        {
            "metadata": {}, 
            "cell_type": "markdown", 
            "source": "## Load data with DSX data navigation\n\n\nFirst click on the 1001 icon in the top right, to open the data panel:\n<div><img src=\"https://raw.githubusercontent.com/IBMDataScience/SparkSummitDemo/master/Screenshots/dataicon.png\" width=100 align=\"left\"\n/></div>"
        }, 
        {
            "metadata": {}, 
            "cell_type": "markdown", 
            "source": "### Click in empty cell below and insert BlocPower_T.csv as Spark SQL DataFrame\n\n<img src=\"https://raw.githubusercontent.com/IBMDataScience/SparkSummitDemo/master/Screenshots/loadBlocPower_T.gif\"  />\n\n---"
        }, 
        {
            "execution_count": null, 
            "metadata": {
                "collapsed": true
            }, 
            "cell_type": "code", 
            "source": "", 
            "outputs": []
        }, 
        {
            "metadata": {}, 
            "cell_type": "markdown", 
            "source": "---"
        }, 
        {
            "metadata": {}, 
            "cell_type": "markdown", 
            "source": "<h1 align=center><font size = 5>Extra Tutorial about Python</font></h1> "
        }, 
        {
            "metadata": {}, 
            "cell_type": "markdown", 
            "source": "<h1 align=center><font size = 5>Sample Dataset</font></h1> "
        }, 
        {
            "metadata": {}, 
            "cell_type": "markdown", 
            "source": "Lets start learnin Python language with a sample dataset, __Movie dataset__."
        }, 
        {
            "metadata": {}, 
            "cell_type": "markdown", 
            "source": "Which album should you listen to next? \n\nLet's say each of your friends tells you their favorite top-selling album. You do some research on the albums and put it all into a table. Now you can begin exploring the dataset, and asking questions about the albums and artists. For example, you can check if albums from some certain genres tend to get better ratings. You can check how the sales for albums changes across years, and much more. "
        }, 
        {
            "metadata": {}, 
            "cell_type": "markdown", 
            "source": "**Movies dataset**\n\nThe table gathered includes one row for each movie, with several columns for each album characteristic:\n\n- **artist** - Name of the artist\n- **album** - Name of the album\n- **released_year** - Year the album was released\n- **length_min_sec** - Length of the album (hours,minutes,seconds)\n- **genre** - Genre of the album\n- **music_recording_sales_millions** - Music recording sales (millions in USD) on [SONG://DATABASE](http://www.song-database.com/)\n- **claimed_sales_millions** - Album's claimed sales (millions in USD) on [SONG://DATABASE](http://www.song-database.com/)\n- **date_released** - Date on which the album was released\n- **soundtrack** - Indicates if the album is the movie soundtrack (Y) or (N)\n- **rating_of_friends** - Indicates the rating from your friends from 1 to 10\n<br>\n"
        }, 
        {
            "metadata": {}, 
            "cell_type": "markdown", 
            "source": "<font size=\"1\">\n<table font-size:xx-small style=\"width:25%\">\n  <tr>\n    <th>Artist</th>\n    <th>Album</th> \n    <th>Released</th>\n    <th>Length</th>\n    <th>Genre</th> \n    <th>Music recording sales (millions)</th>\n    <th>Claimed sales (millions)</th>\n    <th>Released</th>\n    <th>Soundtrack</th>\n    <th>Rating (friends)</th>\n  </tr>\n  <tr>\n    <td>Michael Jackson</td>\n    <td>Thriller</td> \n    <td>1982</td>\n    <td>00:42:19</td>\n    <td>Pop, rock, R&B</td>\n    <td>46</td>\n    <td>65</td>\n    <td>30-Nov-82</td>\n    <td></td>\n    <td>10.0</td>\n  </tr>\n  <tr>\n    <td>AC/DC</td>\n    <td>Back in Black</td> \n    <td>1980</td>\n    <td>00:42:11</td>\n    <td>Hard rock</td>\n    <td>26.1</td>\n    <td>50</td>\n    <td>25-Jul-80</td>\n    <td></td>\n    <td>8.5</td>\n  </tr>\n    <tr>\n    <td>Pink Floyd</td>\n    <td>The Dark Side of the Moon</td> \n    <td>1973</td>\n    <td>00:42:49</td>\n    <td>Progressive rock</td>\n    <td>24.2</td>\n    <td>45</td>\n    <td>01-Mar-73</td>\n    <td></td>\n    <td>9.5</td>\n  </tr>\n    <tr>\n    <td>Whitney Houston</td>\n    <td>The Bodyguard</td> \n    <td>1992</td>\n    <td>00:57:44</td>\n    <td>Soundtrack/R&B, soul, pop</td>\n    <td>26.1</td>\n    <td>50</td>\n    <td>25-Jul-80</td>\n    <td>Y</td>\n    <td>7.0</td>\n  </tr>\n    <tr>\n    <td>Meat Loaf</td>\n    <td>Bat Out of Hell</td> \n    <td>1977</td>\n    <td>00:46:33</td>\n    <td>Hard rock, progressive rock</td>\n    <td>20.6</td>\n    <td>43</td>\n    <td>21-Oct-77</td>\n    <td></td>\n    <td>7.0</td>\n  </tr>\n    <tr>\n    <td>Eagles</td>\n    <td>Their Greatest Hits (1971-1975)</td> \n    <td>1976</td>\n    <td>00:43:08</td>\n    <td>Rock, soft rock, folk rock</td>\n    <td>32.2</td>\n    <td>42</td>\n    <td>17-Feb-76</td>\n    <td></td>\n    <td>9.5</td>\n  </tr>\n    <tr>\n    <td>Bee Gees</td>\n    <td>Saturday Night Fever</td> \n    <td>1977</td>\n    <td>1:15:54</td>\n    <td>Disco</td>\n    <td>20.6</td>\n    <td>40</td>\n    <td>15-Nov-77</td>\n    <td>Y</td>\n    <td>9.0</td>\n  </tr>\n    <tr>\n    <td>Fleetwood Mac</td>\n    <td>Rumours</td> \n    <td>1977</td>\n    <td>00:40:01</td>\n    <td>Soft rock</td>\n    <td>27.9</td>\n    <td>40</td>\n    <td>04-Feb-77</td>\n    <td></td>\n    <td>9.5</td>\n  </tr>\n</table></font>\n    "
        }, 
        {
            "metadata": {}, 
            "cell_type": "markdown", 
            "source": "### We can use Python to help us explore the dataset\nBut to begin, we'll need to start from the basics, so let's get started!"
        }, 
        {
            "metadata": {}, 
            "cell_type": "markdown", 
            "source": "<hr>"
        }, 
        {
            "metadata": {}, 
            "cell_type": "markdown", 
            "source": "<a id=\"Simple-Math\"></a>\n<h2 align=center> Simple Math in Python </h2>"
        }, 
        {
            "metadata": {}, 
            "cell_type": "markdown", 
            "source": "Let's say you want to listen to *Thriller*, *Saturday Night Fever*, and *Rumours* back-to-back. Do you have enough time to **listen to all three albums in 2 hours?** Let's try using simple math in Python.  "
        }, 
        {
            "metadata": {}, 
            "cell_type": "markdown", 
            "source": "What is the **total album length** (in minutes; rounding up the seconds so that you don't miss a single note) for Thriller, Saturday Night Fever, and Rumers?\n- **Thriller**: 42 min 19 sec\n- **Saturday Night Fever**: 1 hour 15 min 54 sec\n- **Rumours**: 40 min 1 sec"
        }, 
        {
            "metadata": {}, 
            "cell_type": "markdown", 
            "source": "<div class=\"alert alert-success alertsuccess\" style=\"margin-top: 20px\">\n**Tip**: To run the grey code cell below, click on it, and press Shift + Enter.\n</div>"
        }, 
        {
            "execution_count": null, 
            "metadata": {
                "collapsed": true
            }, 
            "cell_type": "code", 
            "source": "43 + 60 + 16 + 41", 
            "outputs": []
        }, 
        {
            "metadata": {}, 
            "cell_type": "markdown", 
            "source": "Great! You've determined that the total number of album play time is **160 min**.  "
        }, 
        {
            "metadata": {}, 
            "cell_type": "markdown", 
            "source": "**What is 160 min in hours?**"
        }, 
        {
            "execution_count": null, 
            "metadata": {
                "collapsed": true
            }, 
            "cell_type": "code", 
            "source": "160.0 / 60.0", 
            "outputs": []
        }, 
        {
            "metadata": {}, 
            "cell_type": "markdown", 
            "source": "Well, it looks like it's well **over 2 hours**, which means you can't listen to *Thriller*, *Saturday Night Fever* and *Rumours* back-to-back without missing out on some of the songs!"
        }, 
        {
            "metadata": {}, 
            "cell_type": "markdown", 
            "source": "<div class=\"alert alert-success alertsuccess\" style=\"margin-top: 20px\">\n<h4> [Tip] Simple math in Python </h4>\n<p></p>\nYou can do a variety of mathematical operations in Python including:  \n<li> addition: **2 + 2** </li>\n<li> subtraction: **5 - 2** </li>\n<li> multiplication: **3 \\* 2** </li>\n<li> division: **4 / 2** </li>\n<li> exponentiation: **4 \\*\\* 2** </li>\n</div>"
        }, 
        {
            "metadata": {}, 
            "cell_type": "markdown", 
            "source": "<a id=\"Variables-in-Python\"></a>\n<h2 align=center> Variables in Python </h2>"
        }, 
        {
            "metadata": {}, 
            "cell_type": "markdown", 
            "source": "We can also **store** our output in **variables**, so we can use them later on. For example:"
        }, 
        {
            "execution_count": null, 
            "metadata": {
                "collapsed": true
            }, 
            "cell_type": "code", 
            "source": "x = 43 + 60 + 16 + 41", 
            "outputs": []
        }, 
        {
            "metadata": {}, 
            "cell_type": "markdown", 
            "source": "To return the value of **`x`**, we can simply run the variable as a command:"
        }, 
        {
            "execution_count": null, 
            "metadata": {
                "collapsed": true
            }, 
            "cell_type": "code", 
            "source": "x", 
            "outputs": []
        }, 
        {
            "metadata": {}, 
            "cell_type": "markdown", 
            "source": "We can also perform operations on **`x`** and save the result to a **new variable**:"
        }, 
        {
            "execution_count": null, 
            "metadata": {
                "collapsed": true
            }, 
            "cell_type": "code", 
            "source": "y = x / 60\ny", 
            "outputs": []
        }, 
        {
            "metadata": {}, 
            "cell_type": "markdown", 
            "source": "If we save something to an **existing variable**, it will **overwrite** the previous value:"
        }, 
        {
            "execution_count": null, 
            "metadata": {
                "collapsed": true
            }, 
            "cell_type": "code", 
            "source": "x = x / 60\nx", 
            "outputs": []
        }, 
        {
            "metadata": {}, 
            "cell_type": "markdown", 
            "source": "It's good practice to use **meaningful variable names**, so you don't have to keep track of what variable is what:"
        }, 
        {
            "execution_count": null, 
            "metadata": {
                "collapsed": true
            }, 
            "cell_type": "code", 
            "source": "total_min = 43 + 60 + 16 + 41\ntotal_min", 
            "outputs": []
        }, 
        {
            "execution_count": null, 
            "metadata": {
                "collapsed": true
            }, 
            "cell_type": "code", 
            "source": "total_hr = total_min / 60  \ntotal_hr", 
            "outputs": []
        }, 
        {
            "metadata": {}, 
            "cell_type": "markdown", 
            "source": "You can put this all into a single expression, but remember to use **round brackets** to add together the album lengths first, before dividing by 60."
        }, 
        {
            "execution_count": null, 
            "metadata": {
                "collapsed": true
            }, 
            "cell_type": "code", 
            "source": "total_hr = (43 + 60 + 16 + 41) / 60  # get total hours in a single expression\ntotal_hr", 
            "outputs": []
        }, 
        {
            "metadata": {}, 
            "cell_type": "markdown", 
            "source": "<hr></hr>\n<div class=\"alert alert-success alertsuccess\" style=\"margin-top: 20px\">\n<h4> [Tip] # Comments</h4>  \n\nDid you notice the **comment** after the **total_hr = (43 + 60 + 16 + 41) / 60 ** above? Comments are very useful in describing your code. You can create your own comments by using the **#** symbol and writing your comment after it. Python will interpret it as a comment, not as code.\n\n<p></p>\n</div>\n<hr></hr>"
        }, 
        {
            "metadata": {}, 
            "cell_type": "markdown", 
            "source": "<hr></hr>\n<div class=\"alert alert-success alertsuccess\" style=\"margin-top: 0px\">\n<h4> [Tip] Variables in Python </h4>\n<p></p>\nAs you just learned, you can use **variables** to store values for repeated use. Here are some more **characteristics of variables in Python**:\n<li>variables store the output of a block of code </li>\n<li>variables are typically assigned using **=** (as in **x = 1**) </li>\n<p></p>\n</div>\n<hr></hr>"
        }, 
        {
            "metadata": {}, 
            "cell_type": "markdown", 
            "source": "Python isn't just about numbers -- we can also have strings too. For example:"
        }, 
        {
            "execution_count": null, 
            "metadata": {
                "collapsed": true
            }, 
            "cell_type": "code", 
            "source": "album = \"Thriller\"\nalbum", 
            "outputs": []
        }, 
        {
            "metadata": {}, 
            "cell_type": "markdown", 
            "source": "In Python, you can identify **character strings** when they are wrapped with **matching double (\") or single (') quotes**."
        }, 
        {
            "metadata": {}, 
            "cell_type": "markdown", 
            "source": "There are also **logical variables**, which consist of True and False. They're particular important when you want to check or compare the contents of fields. "
        }, 
        {
            "execution_count": null, 
            "metadata": {
                "collapsed": true
            }, 
            "cell_type": "code", 
            "source": "Logical_var = True\nLogical_var", 
            "outputs": []
        }, 
        {
            "metadata": {}, 
            "cell_type": "markdown", 
            "source": "<hr></hr>\n<div class=\"alert alert-success alertsuccess\" style=\"margin-top: 20px\">\n<h4> [Tip] True and False in Python </h4>  \n\nDid you know? Python only recognizes `True` and `False` as special values for true and false. That means all other spellings, including *TRUE* and *true*, are not interpreted by Python as logical values.\n\n<p></p>\n</div>\n\n<hr></hr>"
        }, 
        {
            "metadata": {}, 
            "cell_type": "markdown", 
            "source": "### Using Logical Operations"
        }, 
        {
            "metadata": {}, 
            "cell_type": "markdown", 
            "source": "A variable can be comprised of **`True`** and **`False`**, which are special **logical values** in Python. These boolean values are used used to indicate whether a condition is true or false.  \n\nLet's check whether an album release year of 1982 is older than (**greater in value than**) 2000."
        }, 
        {
            "execution_count": null, 
            "metadata": {
                "collapsed": true
            }, 
            "cell_type": "code", 
            "source": "album_year = 1990\nalbum_year > 1980 and album_year < 2000", 
            "outputs": []
        }, 
        {
            "metadata": {}, 
            "cell_type": "markdown", 
            "source": "You can also make a logical comparison across multiple items in a vector. Which album release years here are \"greater\" than 2000?"
        }, 
        {
            "execution_count": null, 
            "metadata": {
                "collapsed": true
            }, 
            "cell_type": "code", 
            "source": "album_year == 1990 or album_year < 1980", 
            "outputs": []
        }, 
        {
            "metadata": {}, 
            "cell_type": "markdown", 
            "source": "We can also check for **equivalence**, using **`==`**. Let's check which album year is equal to 1990."
        }, 
        {
            "execution_count": null, 
            "metadata": {
                "collapsed": true
            }, 
            "cell_type": "code", 
            "source": "album_year == 1990", 
            "outputs": []
        }, 
        {
            "metadata": {}, 
            "cell_type": "markdown", 
            "source": "If you want to check which ones are **not equal** to 2016, you can use **`!=`**"
        }, 
        {
            "execution_count": null, 
            "metadata": {
                "collapsed": true
            }, 
            "cell_type": "code", 
            "source": "album_year != 2016", 
            "outputs": []
        }, 
        {
            "metadata": {}, 
            "cell_type": "markdown", 
            "source": "<hr></hr>\n<div class=\"alert alert-success alertsuccess\" style=\"margin-top: 20px\">\n<h4> [Tip] Logical Operators in Python </h4>\n<p></p>\nYou can do a variety of logical operations in Python including:  \n<li> Checking equivalence: **1 == 2** </li>\n<li> Checking non-equivalence: **True != False** </li>\n<li> Greater than: **100 > 1** </li>\n<li> Greater than or equal to: **100 >= 1** </li>\n<li> Less than: **1 < 2** </li>\n<li> Less than or equal to: **1 <= 2** </li>\n</div>\n<hr></hr>"
        }, 
        {
            "metadata": {}, 
            "cell_type": "markdown", 
            "source": "<a id=\"lists\"></a>\n<h2 align=center>Lists in Python</h2>"
        }, 
        {
            "metadata": {}, 
            "cell_type": "markdown", 
            "source": "What if we want to create a list of albums, we could put them in a Python list so that we could perform various manipulations on the list, like sorting it, etc. "
        }, 
        {
            "execution_count": null, 
            "metadata": {
                "collapsed": true
            }, 
            "cell_type": "code", 
            "source": "album_list = [\"Thriller\", \"Back in Black\", \"The Dark Side of the Moon\", \\\n              \"The Bodyguard\", \"Bat Out of Hell\", \"Their Greatest Hits (1971-1975)\", \\\n              \"Saturday Night Fever\", \"Rumours\"]\nalbum_list", 
            "outputs": []
        }, 
        {
            "execution_count": null, 
            "metadata": {
                "collapsed": true
            }, 
            "cell_type": "code", 
            "source": "artist_list = [\"Michael Jackson\", \"AC/DC\", \"Pink Floyd\", \"Whitney Houston\", \\\n               \"Meat Loaf\", \"Eagles\", \"Bee Gees\", \"Fleetwood Mac\"]\nartist_list", 
            "outputs": []
        }, 
        {
            "metadata": {}, 
            "cell_type": "markdown", 
            "source": "Lists are what they seem - a list of values which are numbered. The first one is numbered zero, the second 1, the third 2, etc. You can remove values from the list, and add new values to the end.\n- the most versatile data type\n- separated by commas and enclosed within square brackets ([])\n- items can be accessed using the slice operator ([ ] and [:]) \n- indexes starting at 0 in the beginning of the list\n- plus (+) sign is the list concatenation operator\n\n\nA list can be of different objects of Python, like vectors, numbers, characters, other lists as well, and so on. You can consider a list as a container of correlated information, well structured and easy to read. "
        }, 
        {
            "metadata": {}, 
            "cell_type": "markdown", 
            "source": "You can simply create a list of numbers:"
        }, 
        {
            "execution_count": null, 
            "metadata": {
                "collapsed": true
            }, 
            "cell_type": "code", 
            "source": "samole_list=[6,7,8,4]\nsamole_list", 
            "outputs": []
        }, 
        {
            "metadata": {}, 
            "cell_type": "markdown", 
            "source": "Let's say we have four album release dates (1982, 1980, 1973, 1992) and we want to assign them to a single variable,  **numeric lists**."
        }, 
        {
            "execution_count": null, 
            "metadata": {
                "collapsed": true
            }, 
            "cell_type": "code", 
            "source": "Released_dates = [1982,1980,1973,1992]", 
            "outputs": []
        }, 
        {
            "execution_count": null, 
            "metadata": {
                "collapsed": true
            }, 
            "cell_type": "code", 
            "source": "Released_dates", 
            "outputs": []
        }, 
        {
            "metadata": {}, 
            "cell_type": "markdown", 
            "source": "What if we use quotation marks? Then this becomes a **character list**."
        }, 
        {
            "execution_count": null, 
            "metadata": {
                "collapsed": true
            }, 
            "cell_type": "code", 
            "source": "# Create genre list and assign values to it \nalbum_titles = [\"Thriller\", \"Back in Black\", \"The Dark Side of the Moon\",\"The Boduguard\"]\nalbum_titles", 
            "outputs": []
        }, 
        {
            "metadata": {}, 
            "cell_type": "markdown", 
            "source": "You can also create a list using the **list** type function as shown below.  Remember a list can be changed but a tuple cannot. "
        }, 
        {
            "metadata": {}, 
            "cell_type": "markdown", 
            "source": "As mentioned, `list` has a sequence and each element of a list has a position in that sequence, which starts from 0. "
        }, 
        {
            "metadata": {}, 
            "cell_type": "markdown", 
            "source": "### Accessing items in a list\nIt is possible to retrieve only a part of a list using the **single square  bracket**  operator **[ ]**. This operator can be also used to get a single element in a specific position. Take a look at the next example:"
        }, 
        {
            "metadata": {}, 
            "cell_type": "markdown", 
            "source": "The index number 2 returns the third element of a list, if that element exists, because indexing starts at 0:"
        }, 
        {
            "execution_count": null, 
            "metadata": {
                "collapsed": true
            }, 
            "cell_type": "code", 
            "source": "album_list[2] ", 
            "outputs": []
        }, 
        {
            "metadata": {}, 
            "cell_type": "markdown", 
            "source": "Or you can select a part or interval of elements of a list. In our next example we are retrieving the 1st and  2nd elements:"
        }, 
        {
            "execution_count": null, 
            "metadata": {
                "collapsed": true
            }, 
            "cell_type": "code", 
            "source": "album_list[0:2] ", 
            "outputs": []
        }, 
        {
            "metadata": {}, 
            "cell_type": "markdown", 
            "source": "It looks a little confusing, but lists can also store names for its elements."
        }, 
        {
            "metadata": {}, 
            "cell_type": "markdown", 
            "source": "<a id=\"ref2\"></a>\n<center><h2>Operations on lists</h2></center>"
        }, 
        {
            "metadata": {}, 
            "cell_type": "markdown", 
            "source": "### Concatenating lists\n\nConcatenation is the proccess of puting things together, in sequence. And yes, you can do it with lists and dictionaries. Just us the operator ** + **. Take a look at the next example:"
        }, 
        {
            "execution_count": null, 
            "metadata": {
                "collapsed": true
            }, 
            "cell_type": "code", 
            "source": "album_titles1 = [\"Thriller\", \"Back in Black\"]\nalbum_titles2 = [\"The Dark Side of the Moon\", \"The Boduguard\"]\nalbum_titles1 + album_titles2", 
            "outputs": []
        }, 
        {
            "metadata": {}, 
            "cell_type": "markdown", 
            "source": "### Adding more elements to a list"
        }, 
        {
            "metadata": {}, 
            "cell_type": "markdown", 
            "source": "You can add more elements to a list with the same **[ ]** function you use the create lists:"
        }, 
        {
            "execution_count": null, 
            "metadata": {
                "collapsed": true
            }, 
            "cell_type": "code", 
            "source": "Released_dates = [1982,1980,1973,1992]\nReleased_dates", 
            "outputs": []
        }, 
        {
            "execution_count": null, 
            "metadata": {
                "collapsed": true
            }, 
            "cell_type": "code", 
            "source": "Released_dates.append(1960)\nReleased_dates", 
            "outputs": []
        }, 
        {
            "metadata": {}, 
            "cell_type": "markdown", 
            "source": "### Length of a list"
        }, 
        {
            "metadata": {}, 
            "cell_type": "markdown", 
            "source": "How do we check how many items there are in a list? We can use the length **len()** function:"
        }, 
        {
            "execution_count": null, 
            "metadata": {
                "collapsed": true
            }, 
            "cell_type": "code", 
            "source": "Released_dates\nlen(Released_dates)", 
            "outputs": []
        }, 
        {
            "metadata": {}, 
            "cell_type": "markdown", 
            "source": "### Subsetting lists"
        }, 
        {
            "metadata": {}, 
            "cell_type": "markdown", 
            "source": "We can also retrieve just the **first few items** using the index:"
        }, 
        {
            "execution_count": null, 
            "metadata": {
                "collapsed": true, 
                "scrolled": true
            }, 
            "cell_type": "code", 
            "source": "first_element = Released_dates[0]\nfirst_element", 
            "outputs": []
        }, 
        {
            "execution_count": null, 
            "metadata": {
                "collapsed": true
            }, 
            "cell_type": "code", 
            "source": "first_few_elements = Released_dates[:3]\nfirst_few_elements", 
            "outputs": []
        }, 
        {
            "metadata": {}, 
            "cell_type": "markdown", 
            "source": "We can also retrieve just the **last few items** using this code:"
        }, 
        {
            "execution_count": null, 
            "metadata": {
                "collapsed": true
            }, 
            "cell_type": "code", 
            "source": "last_element = Released_dates[3:]\nlast_element", 
            "outputs": []
        }, 
        {
            "metadata": {}, 
            "cell_type": "markdown", 
            "source": "What if you wanted to retrieve the second year from the following **list of Released_dates**?"
        }, 
        {
            "execution_count": null, 
            "metadata": {
                "collapsed": true
            }, 
            "cell_type": "code", 
            "source": "Released_dates = [1982,1980,1973,1992]\nReleased_dates", 
            "outputs": []
        }, 
        {
            "metadata": {}, 
            "cell_type": "markdown", 
            "source": "To retrieve the **second year**, you can use square brackets **`[]`**:"
        }, 
        {
            "execution_count": null, 
            "metadata": {
                "collapsed": true
            }, 
            "cell_type": "code", 
            "source": "Released_dates[1] ", 
            "outputs": []
        }, 
        {
            "metadata": {}, 
            "cell_type": "markdown", 
            "source": "To retrieve the **third year**, you can use:"
        }, 
        {
            "execution_count": null, 
            "metadata": {
                "collapsed": true
            }, 
            "cell_type": "code", 
            "source": "Released_dates[2] ", 
            "outputs": []
        }, 
        {
            "metadata": {}, 
            "cell_type": "markdown", 
            "source": "And if you want to retrieve **multiple items**, you can pass in a vector:"
        }, 
        {
            "execution_count": null, 
            "metadata": {
                "collapsed": true
            }, 
            "cell_type": "code", 
            "source": "Released_dates[1:4] ", 
            "outputs": []
        }, 
        {
            "metadata": {}, 
            "cell_type": "markdown", 
            "source": "Negative indices slice the sequence relative to the end"
        }, 
        {
            "execution_count": null, 
            "metadata": {
                "collapsed": true
            }, 
            "cell_type": "code", 
            "source": "Released_dates[-2:] ", 
            "outputs": []
        }, 
        {
            "metadata": {}, 
            "cell_type": "markdown", 
            "source": "A step can also be used after a second colon to take every other element:"
        }, 
        {
            "execution_count": null, 
            "metadata": {
                "collapsed": true
            }, 
            "cell_type": "code", 
            "source": "Released_dates[::2]", 
            "outputs": []
        }, 
        {
            "metadata": {}, 
            "cell_type": "markdown", 
            "source": "We can reverse a list by using -1 as shown in the following code:"
        }, 
        {
            "execution_count": null, 
            "metadata": {
                "collapsed": true
            }, 
            "cell_type": "code", 
            "source": "Released_dates[::-1]", 
            "outputs": []
        }, 
        {
            "metadata": {}, 
            "cell_type": "markdown", 
            "source": "### Sorting a list"
        }, 
        {
            "metadata": {}, 
            "cell_type": "markdown", 
            "source": "We can also sort a vector:"
        }, 
        {
            "execution_count": null, 
            "metadata": {
                "collapsed": true, 
                "scrolled": true
            }, 
            "cell_type": "code", 
            "source": "Released_dates = [1982,1980,1973,1992]\nReleased_dates", 
            "outputs": []
        }, 
        {
            "execution_count": null, 
            "metadata": {
                "collapsed": true
            }, 
            "cell_type": "code", 
            "source": "Released_dates.sort()\nReleased_dates", 
            "outputs": []
        }, 
        {
            "metadata": {}, 
            "cell_type": "markdown", 
            "source": "But if you just want the minimum and maximum values of a list, you can use the **`min()`** and **`max()`** functions"
        }, 
        {
            "execution_count": null, 
            "metadata": {
                "collapsed": true
            }, 
            "cell_type": "code", 
            "source": "minimum = min(Released_dates)\nmaximum = max(Released_dates)\n\nprint minimum,maximum", 
            "outputs": []
        }, 
        {
            "metadata": {}, 
            "cell_type": "markdown", 
            "source": "### Average of Numbers"
        }, 
        {
            "metadata": {}, 
            "cell_type": "markdown", 
            "source": "If you want to check the average sales of some albums, what would you do? Of course, one way is to add all the numbers together, then divide by the number of albums:"
        }, 
        {
            "execution_count": null, 
            "metadata": {
                "collapsed": true
            }, 
            "cell_type": "code", 
            "source": "album_min = [42,42,57,46,43]\n\n# sum results in the sum of all elements in the vector\navg_time_min = sum(album_min)/len(album_min)\navg_time_min", 
            "outputs": []
        }, 
        {
            "metadata": {}, 
            "cell_type": "markdown", 
            "source": "<a id=\"conditional\"></a>\n\n<center><h2>Conditional Statements</h2></center>"
        }, 
        {
            "metadata": {}, 
            "cell_type": "markdown", 
            "source": "We often want to check a conditional statement and then do something in response to that condition being true or false.\n\n### If Statements\n\n**If** statements are composed of a conditional check and a block of code that is executed if the check results in **True**. For example, assume we want to check an album's realease year, and print something only if it greater than 1980:"
        }, 
        {
            "execution_count": null, 
            "metadata": {
                "collapsed": true
            }, 
            "cell_type": "code", 
            "source": "album_year = 1983\nif album_year > 1980:\n    print \"Album year is greater than 1980\"", 
            "outputs": []
        }, 
        {
            "metadata": {}, 
            "cell_type": "markdown", 
            "source": "Notice that the code in the above **indented** block will only be executed if the check results in **True**. "
        }, 
        {
            "metadata": {}, 
            "cell_type": "markdown", 
            "source": "You can also add an `else` block to the `if` block -- the code in `else` block will only be executed if the check results in **False**.\n\n**Syntax:** \n\nif (condition):\n    # do something\nelse:\n    # do something else"
        }, 
        {
            "metadata": {}, 
            "cell_type": "markdown", 
            "source": "<div class=\"alert alert-success alertsuccess\" style=\"margin-top: 20px\">\n**Tip**: This syntax can be spread over multiple lines for ease of creation and legibility.\n</div>"
        }, 
        {
            "metadata": {}, 
            "cell_type": "markdown", 
            "source": "Let's create a variable called **`album_year`** and give it the value 1983. Additionally, let's add an `if` statement to check if the value stored in **`album_year`** is greater than 1980 or not -- if it is, then we want to output a message saying that Album_Year is greater than 1980, if not, then we output a message saying that it is not greater than 1980."
        }, 
        {
            "metadata": {}, 
            "cell_type": "markdown", 
            "source": "Notice that the code in the above **indented** block will only be executed if the check results in **True**. \n\nYou can also add an `else` block to the `if` block -- the code in `else` block will only be executed if the check results in **False**.\n\n**Syntax:** \n\nif (condition):\n    # do something\nelse:\n    # do something else\n\n<div class=\"alert alert-success alertsuccess\" style=\"margin-top: 20px\">\n**Tip**: This syntax can be spread over multiple lines for ease of creation and legibility.\n</div>\n\nLet's create a variable called **`album_year`** and give it the value 1983. Additionally, let's add an `if` statement to check if the value stored in **`album_year`** is greater than 1980 or not -- if it is, then we want to output a message saying that Album_Year is greater than 1980, if not, then we output a message saying that it is not greater than 1980."
        }, 
        {
            "execution_count": null, 
            "metadata": {
                "collapsed": true
            }, 
            "cell_type": "code", 
            "source": "album_year = 1983\nif album_year > 1980:\n    print \"Album year is greater than 1980\"\nelse:\n    print \"Album year is equal to or less than 1980\"", 
            "outputs": []
        }, 
        {
            "metadata": {}, 
            "cell_type": "markdown", 
            "source": "Feel free to change **`album_year`**'s value to other values -- you'll see that the result changes based on it!\n\nTo create our conditional statements to be used with **`if`** and **`else`**, we have a few tools:\n\n### Comparison operators\nWhen comparing two values you can use these operators:\n\n<ul>\n<li>equal: `==`\n<li>not equal: `!=`\n<li>greater/less than: `>` `<` </li>\n<li> greater/less than or equal: `>=` `<=` </li>\n</ul>\n\n### Logical operators\nSometimes you want to check more than one condition at once. For example you might want to check if one condition **and** another condition are true. Logical operators allow you to combine or modify conditions.\n\n<ul>\n<li> and: `&`\n<li> or: `|`\n<li> not: `!`\n</ul>\n\nLet's try using these operators: "
        }, 
        {
            "execution_count": null, 
            "metadata": {
                "collapsed": true
            }, 
            "cell_type": "code", 
            "source": "album_year = 1983\n\nif(album_year > 1980) & (album_year < 1990):\n    print (\"Album year is greater than 1980\")", 
            "outputs": []
        }, 
        {
            "execution_count": null, 
            "metadata": {
                "collapsed": true
            }, 
            "cell_type": "code", 
            "source": "album_year = 1983\n\nif(album_year > 1980) & (album_year < 1990):\n    print (\"Album year is greater than 1980\")", 
            "outputs": []
        }, 
        {
            "execution_count": null, 
            "metadata": {
                "collapsed": true
            }, 
            "cell_type": "code", 
            "source": "album_year = 1983\n\nif(album_year) != '1984':\n    print (\"Album year is greater than 1980\")", 
            "outputs": []
        }, 
        {
            "metadata": {}, 
            "cell_type": "markdown", 
            "source": "<div class=\"alert alert-success alertsuccess\" style=\"margin-top: 20px\">\n**Tip**: All the expressions will return the value in Boolean format -- this format can only house two values: true or false!\n</div>"
        }, 
        {
            "metadata": {}, 
            "cell_type": "markdown", 
            "source": "<a id=\"ref3\"></a>\n<center><h2>Loops</h2></center>\n\nSometimes, you might want to repeat a given function many times. Maybe you don't even know how many times you want it to execute, but have an idea like `once for every row in my dataset`. Repeated execution like this is supplemented by **loops**. In Python, there are two main loop structures, **`for`** and **`while`**.\n\n### The `for` loop\nThe `for` loop structure enables you to execute a code block once for every element in a given structure. For example, it would be like saying **execute this once for every row in my dataset**, or \"execute this once for every element in this column bigger than 10\". **`for`** loops are a very useful structure that make the processing of a large amount of data very simple.\n\nLet's try to use a **`for`** loop to print all the years present in **`released_dates`**. We can do that like this:"
        }, 
        {
            "execution_count": null, 
            "metadata": {
                "collapsed": true
            }, 
            "cell_type": "code", 
            "source": "released_dates = [1982,1980,1973,1992]\nyear = 0\nfor year in released_dates:\n    print(year)  ", 
            "outputs": []
        }, 
        {
            "metadata": {}, 
            "cell_type": "markdown", 
            "source": "### The `while` loop\nAs you can see, the `for` loop is useful for a controlled flow of repetition. However, what if we don't know when we want to stop the loop? What if we want to keep executing a code block until a certain threshold has been reached, or maybe when a logical expression finally results in an expected fashion?\n\nThe `while` loop exists as a tool for repeated execution based on a condition. The code block will keep being executed until the given logical condition returns a `False` boolean value.\n\nHere is an example of using a while loop."
        }, 
        {
            "execution_count": null, 
            "metadata": {
                "collapsed": true
            }, 
            "cell_type": "code", 
            "source": "albums = 250\ntotal_albums = 0\nwhile albums > 0:\n    if total_albums > 500:\n        break\n    total_albums += albums\n    print(total_albums)\n    albums = albums//2", 
            "outputs": []
        }, 
        {
            "metadata": {}, 
            "cell_type": "markdown", 
            "source": "<a id='file'></a>\n<h1 align=center><font size = 5>Reading, Writing and Saving Files in PYTHON</font></h1>\n\nTo load the data into the bdu-lab, first run the code mentioned below.\n\n<hr>\n\n<a id=\"ref1\"></a>\n<h2 align=center>Reading Text Files</h2>\n\nTo read text files in Python, we can use the built-in function **readlines()**. This function takes **file path** as the argument and read the whole file.\n\nLet's first, download this file into bdu-lab using \"wget\", and then read the **Thriller.txt** file and see how it looks like."
        }, 
        {
            "execution_count": null, 
            "metadata": {
                "collapsed": true
            }, 
            "cell_type": "code", 
            "source": "!pwd", 
            "outputs": []
        }, 
        {
            "execution_count": null, 
            "metadata": {
                "collapsed": true
            }, 
            "cell_type": "code", 
            "source": "!wget -O /gpfs/fs01/user/s938-7c91d8923282ea-b42def51627b/notebook/work/Thriller.txt https://ibm.box.com/shared/static/cp4rkaw1pj0ggi3b8rxoxo9fvs4jecak.txt\nfile = open(\"/gpfs/fs01/user/s938-7c91d8923282ea-b42def51627b/notebook/work/Thriller.txt\",\"rw+\")\nprint \"Name of the file:\" , file.name", 
            "outputs": []
        }, 
        {
            "execution_count": null, 
            "metadata": {
                "collapsed": true
            }, 
            "cell_type": "code", 
            "source": "summary = file.readlines()\nprint \"Read Line: %s\" % (summary)", 
            "outputs": []
        }, 
        {
            "execution_count": null, 
            "metadata": {
                "collapsed": true
            }, 
            "cell_type": "code", 
            "source": "file.close()", 
            "outputs": []
        }, 
        {
            "metadata": {}, 
            "cell_type": "markdown", 
            "source": "<a id=\"ref3\"></a>\n<h2 align=center>Writing and Saving to Files</h2>"
        }, 
        {
            "metadata": {}, 
            "cell_type": "markdown", 
            "source": "After reading files, we can also write data into files and save them in different file formats like **.txt, .csv, .xls (for excel files) etc**. Let's take a look at some examples."
        }, 
        {
            "metadata": {}, 
            "cell_type": "markdown", 
            "source": "<h3 style=\"font-size:115%\">Exporting as Text File</h3>"
        }, 
        {
            "metadata": {}, 
            "cell_type": "markdown", 
            "source": "Suppose we want to export the summary to **.txt** file. To do so, we can use **writelines()** method which writes into the file and saves that file to disk, in the specified directory.\n\nLet's create a txt file and try to save the summary text into the file."
        }, 
        {
            "execution_count": null, 
            "metadata": {
                "collapsed": true
            }, 
            "cell_type": "code", 
            "source": "music_txt_file = open(\"/gpfs/fs01/user/s938-7c91d8923282ea-b42def51627b/notebook/work/music_txt_file.txt\", \"w\")\nmusic_txt_file.writelines(summary)\nmusic_txt_file.close() ", 
            "outputs": []
        }, 
        {
            "metadata": {}, 
            "cell_type": "markdown", 
            "source": "Now go to the directory to ensure the .txt file exists and contains the summary data that we wrote."
        }, 
        {
            "metadata": {}, 
            "cell_type": "markdown", 
            "source": "<h3 style=\"font-size:115%\">Exporting as .csv File</h3>"
        }, 
        {
            "metadata": {}, 
            "cell_type": "markdown", 
            "source": "Next, let's write the summary data to a csv file."
        }, 
        {
            "execution_count": null, 
            "metadata": {
                "collapsed": true
            }, 
            "cell_type": "code", 
            "source": "music_csv_file = open(\"/gpfs/fs01/user/s938-7c91d8923282ea-b42def51627b/notebook/work/summary2.csv\", \"w\")\nmusic_csv_file.writelines(summary) \nmusic_csv_file.close() ", 
            "outputs": []
        }, 
        {
            "metadata": {}, 
            "cell_type": "markdown", 
            "source": "When you check the file, you will notice that data is put into a new column wherever there was a comma."
        }, 
        {
            "metadata": {}, 
            "cell_type": "markdown", 
            "source": "<h3 style=\"font-size:115%\">Exporting as Excel File</h3>"
        }, 
        {
            "metadata": {}, 
            "cell_type": "markdown", 
            "source": "Next, let's write the summary data to an Excel file."
        }, 
        {
            "execution_count": null, 
            "metadata": {
                "collapsed": true
            }, 
            "cell_type": "code", 
            "source": "music_xls_file = open(\"/gpfs/fs01/user/s938-7c91d8923282ea-b42def51627b/notebook/work/music_xlsx_file.xls\", \"w\")\nmusic_xls_file.writelines(summary) \nmusic_xls_file.close() ", 
            "outputs": []
        }, 
        {
            "metadata": {}, 
            "cell_type": "markdown", 
            "source": "When you check the file, you will notice that data is put into and Excel file, in the first column, rows 1 to 3."
        }, 
        {
            "metadata": {}, 
            "cell_type": "markdown", 
            "source": "# </a><a id=\"ref4\"></a>\n<h2 align=center>More things: Cheat sheet</h2>"
        }, 
        {
            "metadata": {}, 
            "cell_type": "markdown", 
            "source": "<img src=\"https://ibm.box.com/shared/static/687wgbv1hgeo0fygpvs39qq1qigy982v.png\"\nstyle=\"width:1200px;height:768px;float:left\">"
        }, 
        {
            "metadata": {}, 
            "cell_type": "markdown", 
            "source": "<img src=\"https://ibm.box.com/shared/static/i6b4tq2tvt037652u75adbn1ppcezr6m.png\"\nstyle=\"width:1200px;height:768px;float:left\">"
        }
    ], 
    "nbformat_minor": 1
}