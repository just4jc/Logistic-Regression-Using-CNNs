{
    "metadata": {
        "kernelspec": {
            "language": "python", 
            "display_name": "Python 3.5 (Experimental) with Spark 1.6 (Unsupported)", 
            "name": "python3"
        }, 
        "language_info": {
            "version": "3.5.2", 
            "codemirror_mode": {
                "version": 3, 
                "name": "ipython"
            }, 
            "nbconvert_exporter": "python", 
            "mimetype": "text/x-python", 
            "name": "python", 
            "pygments_lexer": "ipython3", 
            "file_extension": ".py"
        }
    }, 
    "nbformat": 4, 
    "cells": [
        {
            "execution_count": 2, 
            "metadata": {
                "collapsed": true
            }, 
            "cell_type": "code", 
            "source": "\"\"\"\nKnow more, visit my Python tutorial page: https://morvanzhou.github.io/tutorials/\nMy Youtube Channel: https://www.youtube.com/user/MorvanZhou\nDependencies:\ntensorflow: 1.1.0\nnumpy\n\"\"\"\nimport tensorflow as tf\nimport numpy as np\n\ntf.set_random_seed(1)\nnp.random.seed(1)\n\n# fake data\nx = np.linspace(-1, 1, 100)[:, np.newaxis]          # shape (100, 1)\nnoise = np.random.normal(0, 0.1, size=x.shape)\ny = np.power(x, 2) + noise                          # shape (100, 1) + some noise\n\nwith tf.variable_scope('Inputs'):\n    tf_x = tf.placeholder(tf.float32, x.shape, name='x')\n    tf_y = tf.placeholder(tf.float32, y.shape, name='y')\n\nwith tf.variable_scope('Net'):\n    l1 = tf.layers.dense(tf_x, 10, tf.nn.relu, name='hidden_layer')\n    output = tf.layers.dense(l1, 1, name='output_layer')\n\n    # add to histogram summary\n    tf.summary.histogram('h_out', l1)\n    tf.summary.histogram('pred', output)\n\nloss = tf.losses.mean_squared_error(tf_y, output, scope='loss')\ntrain_op = tf.train.GradientDescentOptimizer(learning_rate=0.5).minimize(loss)\ntf.summary.scalar('loss', loss)     # add loss to scalar summary\n\nsess = tf.Session()\nsess.run(tf.global_variables_initializer())\n\nwriter = tf.summary.FileWriter('./log', sess.graph)     # write to file\nmerge_op = tf.summary.merge_all()                       # operation to merge all summary\n\nfor step in range(100):\n    # train and net output\n    _, result = sess.run([train_op, merge_op], {tf_x: x, tf_y: y})\n    writer.add_summary(result, step)\n\n# Lastly, in your terminal or CMD, type this :\n# $ tensorboard --logdir path/to/log\n# open you google chrome, type the link shown on your terminal or CMD. (something like this: http://localhost:6006)\n\n\n", 
            "outputs": []
        }, 
        {
            "execution_count": 3, 
            "metadata": {}, 
            "cell_type": "code", 
            "source": "!tensorboard --logdir ~/log", 
            "outputs": [
                {
                    "output_type": "stream", 
                    "name": "stdout", 
                    "text": "ERROR:tensorflow:Tried to connect to port 6006, but address is in use.\r\nTried to connect to port 6006, but address is in use.\r\n"
                }
            ]
        }, 
        {
            "execution_count": null, 
            "metadata": {
                "collapsed": true
            }, 
            "cell_type": "code", 
            "source": "", 
            "outputs": []
        }
    ], 
    "nbformat_minor": 2
}